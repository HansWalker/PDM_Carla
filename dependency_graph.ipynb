{
 "cells": [
  {
   "cell_type": "code",
   "execution_count": 1,
   "metadata": {},
   "outputs": [],
   "source": [
    "import numpy as np\n",
    "import igraph as ig"
   ]
  },
  {
   "cell_type": "code",
   "execution_count": 78,
   "metadata": {},
   "outputs": [],
   "source": [
    "file_name = \"dependency_data\"\n",
    "\n",
    "with open(file_name, \"r\") as f:\n",
    "    data = f.read()\n",
    "data = data.split(\"-\\n\")\n",
    "\n",
    "edge_list_names = {}\n",
    "nuplan_nodes = set()\n",
    "pdm_nodes = set()\n",
    "for next_node in data:\n",
    "    content = next_node.split(\":\\n\")\n",
    "    key = content[0]\n",
    "    values = content[1].split(\"\\n\")\n",
    "    values = [x for x in values if x != '']\n",
    "    if(key != ''):\n",
    "        nuplan_nodes.add(key)\n",
    "        for value in values:\n",
    "            if(value != ''):\n",
    "                pdm_nodes.add(value)\n",
    "                \n",
    "        edge_list_names[key] = values\n",
    "    "
   ]
  },
  {
   "cell_type": "code",
   "execution_count": 175,
   "metadata": {},
   "outputs": [],
   "source": [
    "number_of_nodes = len(nuplan_nodes) + len(pdm_nodes)\n",
    "graph_indices = {}\n",
    "graph_indices_reversed = {}\n",
    "for i, node in enumerate(nuplan_nodes):\n",
    "    graph_indices[node] = i\n",
    "    graph_indices_reversed[i] = node\n",
    "for i, node in enumerate(pdm_nodes):\n",
    "    graph_indices[node] = i + len(nuplan_nodes)\n",
    "    graph_indices_reversed[i + len(nuplan_nodes)] = node\n",
    "edge_list = []\n",
    "\n",
    "for key in edge_list_names:\n",
    "    for value in edge_list_names[key]:\n",
    "        edge_list.append((graph_indices[key], graph_indices[value]))\n",
    "\n",
    "dependency_graph = ig.Graph(n=number_of_nodes, edges=edge_list)"
   ]
  },
  {
   "cell_type": "code",
   "execution_count": 184,
   "metadata": {},
   "outputs": [],
   "source": [
    "def print_top_n(graph, graph_indices_reversed, n):\n",
    "    sorted_degrees_args = np.argsort(graph.degree())\n",
    "    sorted_degrees = np.sort(graph.degree())\n",
    "    for i in range(min(n,len(sorted_degrees))):\n",
    "        print(graph_indices_reversed[sorted_degrees_args[-1-i]], \" \", sorted_degrees[-1-i])\n",
    "        \n",
    "def remove_dependency(name, graph, graph_indices):\n",
    "\n",
    "    vertex_number = graph_indices[name]\n",
    "    #delete all edges to this vertex\n",
    "    deleted_edges = [(x.source, x.target) for x in graph.vs[vertex_number].incident()]\n",
    "    for next_edge in deleted_edges:\n",
    "        next_edge\n",
    "        dependency_graph.delete_edges([next_edge])\n",
    "        \n",
    "    return dependency_graph"
   ]
  },
  {
   "cell_type": "code",
   "execution_count": 182,
   "metadata": {},
   "outputs": [],
   "source": [
    "removal_list = [[\"nuplan.common.actor_state.ego_state.EgoState\", 0],\n",
    "                   [\"nuplan.common.actor_state.state_representation.StateSE2\", 0],\n",
    "                   [\"nuplan.planning.simulation.trajectory.trajectory_sampling.TrajectorySampling\", 1],\n",
    "                   [\"nuplan.common.actor_state.state_representation.TimePoint\", 0],\n",
    "                   [\"nuplan.common.maps.maps_datatypes.SemanticMapLayer\", 1],\n",
    "                   [\"nuplan.common.actor_state.vehicle_parameters.VehicleParameters\", 1],\n",
    "                   [\"nuplan.common.actor_state.state_representation.Point2D\", 1],\n",
    "                   [\"nuplan.common.actor_state.tracked_objects_types.AGENT_TYPES\", 1],\n",
    "                   [\"nuplan.common.actor_state.tracked_objects_types.TrackedObjectType\", 1],\n",
    "                   [\"nuplan.common.actor_state.vehicle_parameters.get_pacifica_parameters\", 0],\n",
    "                   [\"nuplan.planning.simulation.simulation_time_controller.simulation_iteration.SimulationIteration\", 1],\n",
    "                   [\"nuplan.common.actor_state.state_representation.TimeDuration\", 1],\n",
    "                   [\"nuplan.common.actor_state.state_representation.StateVector2D\", 1],\n",
    "                   [\"nuplan.common.maps.maps.TrafficLightStatusData\", 1],\n",
    "                   [\"nuplan.common.maps.maps_datatypes.TrafficLightStatusType\", 1],\n",
    "                   [\"nuplan.common.geometry.compute.principal_value\", 1]\n",
    "                   ]\n",
    "for next_name in removal_list:\n",
    "    dependency_graph = remove_dependency(next_name[0], dependency_graph, graph_indices)"
   ]
  },
  {
   "cell_type": "code",
   "execution_count": null,
   "metadata": {},
   "outputs": [],
   "source": [
    "removal_list.append([\"nuplan.planning.simulation.trajectory.interpolated_trajectory.InterpolatedTrajectory\",0])\n",
    "for next_name in removal_list:\n",
    "    dependency_graph = remove_dependency(next_name[0], dependency_graph, graph_indices)"
   ]
  },
  {
   "cell_type": "code",
   "execution_count": null,
   "metadata": {},
   "outputs": [],
   "source": [
    "removal_list.append([\"nuplan.planning.simulation.planner.abstract_planner.PlannerInput\",0])\n",
    "for next_name in removal_list:\n",
    "    dependency_graph = remove_dependency(next_name[0], dependency_graph, graph_indices)"
   ]
  },
  {
   "cell_type": "code",
   "execution_count": 190,
   "metadata": {},
   "outputs": [],
   "source": [
    "removal_list.append([\"utils/route_utils.py\",0])\n",
    "for next_name in removal_list:\n",
    "    dependency_graph = remove_dependency(next_name[0], dependency_graph, graph_indices)"
   ]
  },
  {
   "cell_type": "code",
   "execution_count": null,
   "metadata": {},
   "outputs": [],
   "source": [
    "removal_list.append([\"scoring/pdm_scorer_utils.py\",0])\n",
    "for next_name in removal_list:\n",
    "    dependency_graph = remove_dependency(next_name[0], dependency_graph, graph_indices)"
   ]
  },
  {
   "cell_type": "code",
   "execution_count": 213,
   "metadata": {},
   "outputs": [],
   "source": [
    "removal_list.append([\"nuplan.planning.simulation.observation.idm.utils.is_agent_behind\",0])\n",
    "for next_name in removal_list:\n",
    "    dependency_graph = remove_dependency(next_name[0], dependency_graph, graph_indices)"
   ]
  },
  {
   "cell_type": "code",
   "execution_count": 214,
   "metadata": {},
   "outputs": [],
   "source": [
    "removal_list.append([\"nuplan.planning.simulation.observation.idm.utils.is_agent_ahead\",0])\n",
    "for next_name in removal_list:\n",
    "    dependency_graph = remove_dependency(next_name[0], dependency_graph, graph_indices)"
   ]
  },
  {
   "cell_type": "code",
   "execution_count": 218,
   "metadata": {},
   "outputs": [],
   "source": [
    "removal_list.append([\"pdm_closed_planner.py\",0])\n",
    "for next_name in removal_list:\n",
    "    dependency_graph = remove_dependency(next_name[0], dependency_graph, graph_indices)\n",
    "removal_list.append([\"pdm_open_planner.py\",0])\n",
    "for next_name in removal_list:\n",
    "    dependency_graph = remove_dependency(next_name[0], dependency_graph, graph_indices)"
   ]
  },
  {
   "cell_type": "code",
   "execution_count": 222,
   "metadata": {},
   "outputs": [],
   "source": [
    "removal_list.append([\"abstract_pdm_closed_planner.py\",0])\n",
    "for next_name in removal_list:\n",
    "    dependency_graph = remove_dependency(next_name[0], dependency_graph, graph_indices)"
   ]
  },
  {
   "cell_type": "code",
   "execution_count": 226,
   "metadata": {},
   "outputs": [],
   "source": [
    "removal_list.append([\"nuplan.common.geometry.transform.transform\",1])\n",
    "for next_name in removal_list:\n",
    "    dependency_graph = remove_dependency(next_name[0], dependency_graph, graph_indices)"
   ]
  },
  {
   "cell_type": "code",
   "execution_count": 230,
   "metadata": {},
   "outputs": [],
   "source": [
    "removal_list.append([\"nuplan.common.actor_state.car_footprint.CarFootprint\",0])\n",
    "for next_name in removal_list:\n",
    "    dependency_graph = remove_dependency(next_name[0], dependency_graph, graph_indices)"
   ]
  },
  {
   "cell_type": "code",
   "execution_count": 235,
   "metadata": {},
   "outputs": [],
   "source": [
    "removal_list.append([\"observation/pdm_observation.py\",0])\n",
    "for next_name in removal_list:\n",
    "    dependency_graph = remove_dependency(next_name[0], dependency_graph, graph_indices)"
   ]
  },
  {
   "cell_type": "code",
   "execution_count": 238,
   "metadata": {},
   "outputs": [],
   "source": [
    "removal_list.append([\"nuplan.planning.metrics.utils.collision_utils.CollisionType\",1])\n",
    "for next_name in removal_list:\n",
    "    dependency_graph = remove_dependency(next_name[0], dependency_graph, graph_indices)"
   ]
  },
  {
   "cell_type": "code",
   "execution_count": 243,
   "metadata": {},
   "outputs": [],
   "source": [
    "removal_list.append([\"scoring/pdm_scorer.py\",0])\n",
    "for next_name in removal_list:\n",
    "    dependency_graph = remove_dependency(next_name[0], dependency_graph, graph_indices)"
   ]
  },
  {
   "cell_type": "code",
   "execution_count": 246,
   "metadata": {},
   "outputs": [],
   "source": [
    "removal_list.append([\"nuplan.planning.scenario_builder.scenario_utils.sample_indices_with_time_horizon\",1])\n",
    "for next_name in removal_list:\n",
    "    dependency_graph = remove_dependency(next_name[0], dependency_graph, graph_indices)"
   ]
  },
  {
   "cell_type": "code",
   "execution_count": 250,
   "metadata": {},
   "outputs": [],
   "source": [
    "removal_list.append([\"proposal/pdm_generator.py\",0])\n",
    "for next_name in removal_list:\n",
    "    dependency_graph = remove_dependency(next_name[0], dependency_graph, graph_indices)"
   ]
  },
  {
   "cell_type": "code",
   "execution_count": 253,
   "metadata": {},
   "outputs": [],
   "source": [
    "removal_list.append([\"pdm_hybrid_planner.py\",0])\n",
    "for next_name in removal_list:\n",
    "    dependency_graph = remove_dependency(next_name[0], dependency_graph, graph_indices)"
   ]
  },
  {
   "cell_type": "code",
   "execution_count": 256,
   "metadata": {},
   "outputs": [],
   "source": [
    "removal_list.append([\"utils/graph_search/dijkstra.py\",0])\n",
    "for next_name in removal_list:\n",
    "    dependency_graph = remove_dependency(next_name[0], dependency_graph, graph_indices)"
   ]
  },
  {
   "cell_type": "code",
   "execution_count": 259,
   "metadata": {},
   "outputs": [],
   "source": [
    "removal_list.append([\"utils/graph_search/bfs_roadblock.py\",0])\n",
    "for next_name in removal_list:\n",
    "    dependency_graph = remove_dependency(next_name[0], dependency_graph, graph_indices)"
   ]
  },
  {
   "cell_type": "code",
   "execution_count": 262,
   "metadata": {},
   "outputs": [],
   "source": [
    "removal_list.append([\"observation/pdm_observation_utils.py\",0])\n",
    "for next_name in removal_list:\n",
    "    dependency_graph = remove_dependency(next_name[0], dependency_graph, graph_indices)"
   ]
  },
  {
   "cell_type": "code",
   "execution_count": 265,
   "metadata": {},
   "outputs": [],
   "source": [
    "removal_list.append([\"observation/pdm_occupancy_map.py\",0])\n",
    "for next_name in removal_list:\n",
    "    dependency_graph = remove_dependency(next_name[0], dependency_graph, graph_indices)"
   ]
  },
  {
   "cell_type": "code",
   "execution_count": 269,
   "metadata": {},
   "outputs": [],
   "source": [
    "removal_list.append([\"utils/pdm_feature_utils.py\",0])\n",
    "for next_name in removal_list:\n",
    "    dependency_graph = remove_dependency(next_name[0], dependency_graph, graph_indices)"
   ]
  },
  {
   "cell_type": "code",
   "execution_count": 271,
   "metadata": {},
   "outputs": [],
   "source": [
    "removal_list.append([\"nuplan.common.geometry.convert.relative_to_absolute_poses\",0])\n",
    "for next_name in removal_list:\n",
    "    dependency_graph = remove_dependency(next_name[0], dependency_graph, graph_indices)"
   ]
  },
  {
   "cell_type": "code",
   "execution_count": 276,
   "metadata": {},
   "outputs": [],
   "source": [
    "removal_list.append([\"observation/pdm_object_manager.py\",0])\n",
    "for next_name in removal_list:\n",
    "    dependency_graph = remove_dependency(next_name[0], dependency_graph, graph_indices)"
   ]
  },
  {
   "cell_type": "code",
   "execution_count": 277,
   "metadata": {},
   "outputs": [],
   "source": [
    "#print the neighbros to abstract_pdm_planner.py\n",
    "for next_neighbor in dependency_graph.vs[graph_indices[\"observation/pdm_object_manager.py\"]].neighbors():\n",
    "    #print what the neighbor is labelled as\n",
    "    print(graph_indices_reversed[next_neighbor.index])"
   ]
  },
  {
   "cell_type": "code",
   "execution_count": 281,
   "metadata": {},
   "outputs": [
    {
     "name": "stdout",
     "output_type": "stream",
     "text": [
      "['nuplan.common.actor_state.ego_state.EgoState', 0]\n",
      "['nuplan.common.actor_state.state_representation.StateSE2', 0]\n",
      "['nuplan.planning.simulation.trajectory.trajectory_sampling.TrajectorySampling', 1]\n",
      "['nuplan.common.actor_state.state_representation.TimePoint', 0]\n",
      "['nuplan.common.maps.maps_datatypes.SemanticMapLayer', 1]\n",
      "['nuplan.common.actor_state.vehicle_parameters.VehicleParameters', 1]\n",
      "['nuplan.common.actor_state.state_representation.Point2D', 1]\n",
      "['nuplan.common.actor_state.tracked_objects_types.AGENT_TYPES', 1]\n",
      "['nuplan.common.actor_state.tracked_objects_types.TrackedObjectType', 1]\n",
      "['nuplan.common.actor_state.vehicle_parameters.get_pacifica_parameters', 0]\n",
      "['nuplan.planning.simulation.simulation_time_controller.simulation_iteration.SimulationIteration', 1]\n",
      "['nuplan.common.actor_state.state_representation.TimeDuration', 1]\n",
      "['nuplan.common.actor_state.state_representation.StateVector2D', 1]\n",
      "['nuplan.common.maps.maps.TrafficLightStatusData', 1]\n",
      "['nuplan.common.maps.maps_datatypes.TrafficLightStatusType', 1]\n",
      "['nuplan.common.geometry.compute.principal_value', 1]\n",
      "['nuplan.planning.simulation.trajectory.interpolated_trajectory.InterpolatedTrajectory', 0]\n",
      "['nuplan.planning.simulation.planner.abstract_planner.PlannerInput', 0]\n",
      "['utils/route_utils.py', 0]\n",
      "['scoring/pdm_scorer_utils.py', 0]\n",
      "['abstract_pdm_planner.py', 0]\n",
      "['nuplan.planning.simulation.observation.idm.utils.is_agent_behind', 0]\n",
      "['nuplan.planning.simulation.observation.idm.utils.is_agent_ahead', 0]\n",
      "['pdm_closed_planner.py', 0]\n",
      "['pdm_open_planner.py', 0]\n",
      "['abstract_pdm_closed_planner.py', 0]\n",
      "['nuplan.common.geometry.transform.transform', 1]\n",
      "['nuplan.common.actor_state.car_footprint.CarFootprint', 0]\n",
      "['observation/pdm_observation.py', 0]\n",
      "['nuplan.planning.metrics.utils.collision_utils.CollisionType', 1]\n",
      "['scoring/pdm_scorer.py', 0]\n",
      "['nuplan.planning.scenario_builder.scenario_utils.sample_indices_with_time_horizon', 1]\n",
      "['proposal/pdm_generator.py', 0]\n",
      "['pdm_hybrid_planner.py', 0]\n",
      "['utils/graph_search/dijkstra.py', 0]\n",
      "['utils/graph_search/bfs_roadblock.py', 0]\n",
      "['observation/pdm_observation_utils.py', 0]\n",
      "['observation/pdm_occupancy_map.py', 0]\n",
      "['utils/pdm_feature_utils.py', 0]\n",
      "['nuplan.common.geometry.convert.relative_to_absolute_poses', 0]\n",
      "['observation/pdm_object_manager.py', 0]\n"
     ]
    }
   ],
   "source": [
    "for next_row in removal_list:\n",
    "    if(next_row[1] == 0):\n",
    "        print(next_row)"
   ]
  },
  {
   "cell_type": "code",
   "execution_count": 280,
   "metadata": {},
   "outputs": [],
   "source": [
    "#print_top_n(dependency_graph, graph_indices_reversed, 200)"
   ]
  },
  {
   "cell_type": "code",
   "execution_count": null,
   "metadata": {},
   "outputs": [],
   "source": []
  },
  {
   "cell_type": "code",
   "execution_count": 211,
   "metadata": {},
   "outputs": [
    {
     "name": "stdout",
     "output_type": "stream",
     "text": [
      "observation/pdm_observation_utils.py\n",
      "scoring/pdm_scorer.py\n",
      "utils/graph_search/bfs_roadblock.py\n"
     ]
    }
   ],
   "source": [
    "#print the nieghbros to abstract_pdm_planner.py\n",
    "for next_neighbor in dependency_graph.vs[graph_indices[\"nuplan.common.maps.abstract_map.AbstractMap\"]].neighbors():\n",
    "    #print what the neighbor is labelled as\n",
    "    print(graph_indices_reversed[next_neighbor.index])"
   ]
  },
  {
   "cell_type": "code",
   "execution_count": null,
   "metadata": {},
   "outputs": [],
   "source": []
  }
 ],
 "metadata": {
  "kernelspec": {
   "display_name": "Python 3",
   "language": "python",
   "name": "python3"
  },
  "language_info": {
   "codemirror_mode": {
    "name": "ipython",
    "version": 3
   },
   "file_extension": ".py",
   "mimetype": "text/x-python",
   "name": "python",
   "nbconvert_exporter": "python",
   "pygments_lexer": "ipython3",
   "version": "3.10.11"
  }
 },
 "nbformat": 4,
 "nbformat_minor": 2
}
